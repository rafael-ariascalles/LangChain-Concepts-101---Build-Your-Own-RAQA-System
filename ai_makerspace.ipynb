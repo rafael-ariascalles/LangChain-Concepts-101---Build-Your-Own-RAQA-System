{
 "cells": [
  {
   "cell_type": "markdown",
   "metadata": {},
   "source": [
    "# Your First RAQA Application\n",
    "\n",
    "In this notebook, we'll walk you through each of the components that are involved in a simple RAQA application. \n",
    "\n",
    "We won't be leveraging any fancy tools, just the OpenAI Python SDK, Numpy, and some classic Python.\n",
    "\n",
    "This was done with Python 3.11.4."
   ]
  },
  {
   "cell_type": "markdown",
   "metadata": {},
   "source": [
    "Let's look at a rather complicated looking visual representation of a basic RAQA application.\n",
    "\n",
    "<img src=\"https://i.imgur.com/LCNkd1A.png\" />"
   ]
  },
  {
   "cell_type": "markdown",
   "metadata": {},
   "source": [
    "### Imports and Utility \n",
    "\n",
    "We're just doing some imports and enabling `async` to work within the Jupyter environment here, nothing too crazy!"
   ]
  },
  {
   "cell_type": "code",
   "execution_count": 1,
   "metadata": {},
   "outputs": [],
   "source": [
    "from aimakerspace.text_utils import TextFileLoader, CharacterTextSplitter\n",
    "from aimakerspace.vectordatabase import VectorDatabase\n",
    "import asyncio"
   ]
  },
  {
   "cell_type": "code",
   "execution_count": 2,
   "metadata": {},
   "outputs": [],
   "source": [
    "import nest_asyncio\n",
    "nest_asyncio.apply()"
   ]
  },
  {
   "cell_type": "markdown",
   "metadata": {},
   "source": [
    "# Documents\n",
    "\n",
    "We'll be concerning ourselves with this part of the flow in the following section:\n",
    "\n",
    "<img src=\"https://i.imgur.com/wBYB2x3.png\" />"
   ]
  },
  {
   "cell_type": "markdown",
   "metadata": {},
   "source": [
    "### Loading Source Documents\n",
    "\n",
    "So, first things first, we need some documents to work with. \n",
    "\n",
    "While we could work directly with the `.txt` files (or whatever file-types you wanted to extend this to) we can instead do some batch processing of those documents at the beginning in order to store them in a more machine compatible format. \n",
    "\n",
    "In this case, we're going to parse our text file into a single document in memory.\n",
    "\n",
    "Let's look at the relevant bits of the `TextFileLoader` class:\n",
    "\n",
    "```python\n",
    "def load_file(self):\n",
    "        with open(self.path, \"r\", encoding=self.encoding) as f:\n",
    "            self.documents.append(f.read())\n",
    "```\n",
    "\n",
    "We're simply loading the document using the built in `open` method, and storing that output in our `self.documents` list.\n"
   ]
  },
  {
   "cell_type": "code",
   "execution_count": 3,
   "metadata": {},
   "outputs": [
    {
     "data": {
      "text/plain": [
       "1"
      ]
     },
     "execution_count": 3,
     "metadata": {},
     "output_type": "execute_result"
    }
   ],
   "source": [
    "text_loader = TextFileLoader(\"data/KingLear.txt\")\n",
    "documents = text_loader.load_documents()\n",
    "len(documents)"
   ]
  },
  {
   "cell_type": "code",
   "execution_count": 9,
   "metadata": {},
   "outputs": [
    {
     "name": "stdout",
     "output_type": "stream",
     "text": [
      "th endured so long:\n",
      "He but usurp'd his life.\n",
      "ALBANY\n",
      "Bear them from hence. Our present business\n",
      "Is general woe.\n",
      "To KENT and EDGAR\n",
      "\n",
      "Friends of my soul, you twain\n",
      "Rule in this realm, and the gored state sustain.\n",
      "KENT\n",
      "I have a journey, sir, shortly to go;\n",
      "My master calls me, I must not say no.\n",
      "ALBANY\n",
      "The weight of this sad time we must obey;\n",
      "Speak what we feel, not what we ought to say.\n",
      "The oldest hath borne most: we that are young\n",
      "Shall never see so much, nor live so long.\n",
      "Exeunt, with a dead march\n"
     ]
    }
   ],
   "source": [
    "print(documents[0][-500:])"
   ]
  },
  {
   "cell_type": "code",
   "execution_count": 4,
   "metadata": {},
   "outputs": [
    {
     "name": "stdout",
     "output_type": "stream",
     "text": [
      "ACT I\n",
      "SCENE I. King Lear's palace.\n",
      "Enter KENT, GLOUCESTER, and EDMUND\n",
      "KENT\n",
      "I thought the king had m\n"
     ]
    }
   ],
   "source": [
    "print(documents[0][:100])"
   ]
  },
  {
   "cell_type": "markdown",
   "metadata": {},
   "source": [
    "### Splitting Text Into Chunks\n",
    "\n",
    "As we can see, there is one document - and it's the entire text of King Lear.\n",
    "\n",
    "We'll want to chunk the document into smaller parts so it's easier to pass the most relevant snippets to the LLM. \n",
    "\n",
    "There is no fixed way to split/chunk documents - and you'll need to rely on some intuition as well as knowing your data *very* well in order to build the most robust system.\n",
    "\n",
    "For this toy example, we'll just split blindly on length. \n",
    "\n",
    ">There's an opportunity to clear up some terminology here, for this course we will be stick to the following: \n",
    ">\n",
    ">- \"source documents\" : The `.txt`, `.pdf`, `.html`, ..., files that make up the files and information we start with in its raw format\n",
    ">- \"document(s)\" : single (or more) text object(s)\n",
    ">- \"corpus\" : the combination of all of our documents"
   ]
  },
  {
   "cell_type": "markdown",
   "metadata": {},
   "source": [
    "Let's take a peek visually at what we're doing here - and why it might be useful:\n",
    "\n",
    "<img src=\"https://i.imgur.com/rtM6Ci6.png\" />"
   ]
  },
  {
   "cell_type": "markdown",
   "metadata": {},
   "source": [
    "As you can see (though it's not specifically true in this toy example) the idea of splitting documents is to break them into managable sized chunks that retain the most relevant local context."
   ]
  },
  {
   "cell_type": "code",
   "execution_count": 10,
   "metadata": {},
   "outputs": [
    {
     "data": {
      "text/plain": [
       "189"
      ]
     },
     "execution_count": 10,
     "metadata": {},
     "output_type": "execute_result"
    }
   ],
   "source": [
    "text_splitter = CharacterTextSplitter()\n",
    "split_documents = text_splitter.split_texts(documents)\n",
    "len(split_documents)"
   ]
  },
  {
   "cell_type": "markdown",
   "metadata": {},
   "source": [
    "Let's take a look at some of the documents we've managed to split."
   ]
  },
  {
   "cell_type": "code",
   "execution_count": 11,
   "metadata": {},
   "outputs": [
    {
     "name": "stdout",
     "output_type": "stream",
     "text": [
      "ACT I\n",
      "SCENE I. King Lear's palace.\n",
      "Enter KENT, GLOUCESTER, and EDMUND\n",
      "KENT\n",
      "I thought the king had more affected the Duke of\n",
      "Albany than Cornwall.\n",
      "GLOUCESTER\n",
      "It did always seem so to us: but now, in the\n",
      "division of the kingdom, it appears not which of\n",
      "the dukes he values most; for equalities are so\n",
      "weighed, that curiosity in neither can make choice\n",
      "of either's moiety.\n",
      "KENT\n",
      "Is not this your son, my lord?\n",
      "GLOUCESTER\n",
      "His breeding, sir, hath been at my charge: I have\n",
      "so often blushed to acknowledge him, that now I am\n",
      "brazed to it.\n",
      "KENT\n",
      "I cannot conceive you.\n",
      "GLOUCESTER\n",
      "Sir, this young fellow's mother could: whereupon\n",
      "she grew round-wombed, and had, indeed, sir, a son\n",
      "for her cradle ere she had a husband for her bed.\n",
      "Do you smell a fault?\n",
      "KENT\n",
      "I cannot wish the fault undone, the issue of it\n",
      "being so proper.\n",
      "GLOUCESTER\n",
      "But I have, sir, a son by order of law, some year\n",
      "elder than this, who yet is no dearer in my account:\n",
      "though this knave came something saucily into the\n",
      "world before he was se\n",
      "====================================================================================================\n"
     ]
    }
   ],
   "source": [
    "for i in split_documents[0:1]:\n",
    "    print(i)\n",
    "    print(\"=\"*100)"
   ]
  },
  {
   "cell_type": "markdown",
   "metadata": {},
   "source": [
    "### Embeddings and Vectors\n",
    "\n",
    "Next, we have to convert our corpus into a \"machine readable\" format. \n",
    "\n",
    "Loosely, this means turning the text into numbers. \n",
    "\n",
    "There are plenty of resources that talk about this process in great detail - I'll leave this [blog](https://txt.cohere.com/sentence-word-embeddings/) from Cohere:AI as a resource if you want to deep dive a bit. \n",
    "\n",
    "Today, we're going to talk about the actual process of creating, and then storing, these embeddings, and how we can leverage that to intelligently add context to our queries."
   ]
  },
  {
   "cell_type": "markdown",
   "metadata": {},
   "source": [
    "While this is all baked into 1 call - let's look at some of the code that powers this process:\n",
    "\n",
    "Let's look at our `VectorDatabase().__init__()`:\n",
    "\n",
    "```python\n",
    "def __init__(self, embedding_model: EmbeddingModel = None):\n",
    "        self.vectors = defaultdict(np.array)\n",
    "        self.embedding_model = embedding_model or EmbeddingModel()\n",
    "```\n",
    "\n",
    "As you can see - our vectors are merely stored as a dictionary of `np.array` objects.\n",
    "\n",
    "Secondly, our `VectorDatabase()` has a default `EmbeddingModel()` which is a wrapper for OpenAI's `text-embedding-ada-002` model. \n",
    "\n",
    "> **Quick Info About `text-embedding-ada-002`**:\n",
    "> - It has a context window of **8192** tokens\n",
    "> - It returns vectors with dimension **1536**"
   ]
  },
  {
   "cell_type": "markdown",
   "metadata": {},
   "source": [
    "We can call the `async_get_embeddings` method of our `EmbeddingModel()` on a list of `str` and receive a list of `float` back!\n",
    "\n",
    "```python\n",
    "async def async_get_embeddings(self, list_of_text: List[str]) -> List[List[float]]:\n",
    "        return await aget_embeddings(\n",
    "            list_of_text=list_of_text, engine=self.embeddings_model_name\n",
    "        )\n",
    "```"
   ]
  },
  {
   "cell_type": "markdown",
   "metadata": {},
   "source": [
    "We cast those to `np.array` when we build our `VectorDatabase()`:\n",
    "\n",
    "```python\n",
    "async def abuild_from_list(self, list_of_text: List[str]) -> \"VectorDatabase\":\n",
    "        embeddings = await self.embedding_model.async_get_embeddings(list_of_text)\n",
    "        for text, embedding in zip(list_of_text, embeddings):\n",
    "            self.insert(text, np.array(embedding))\n",
    "        return self\n",
    "```\n",
    "\n",
    "And that's all we need to do!"
   ]
  },
  {
   "cell_type": "code",
   "execution_count": 12,
   "metadata": {},
   "outputs": [],
   "source": [
    "vector_db = VectorDatabase()\n",
    "vector_db = asyncio.run(vector_db.abuild_from_list(split_documents))"
   ]
  },
  {
   "cell_type": "code",
   "execution_count": 15,
   "metadata": {},
   "outputs": [
    {
     "data": {
      "text/plain": [
       "[(\"great patron thought on in my prayers,--\\nKING LEAR\\nThe bow is bent and drawn, make from the shaft.\\nKENT\\nLet it fall rather, though the fork invade\\nThe region of my heart: be Kent unmannerly,\\nWhen Lear is mad. What wilt thou do, old man?\\nThink'st thou that duty shall have dread to speak,\\nWhen power to flattery bows? To plainness honour's bound,\\nWhen majesty stoops to folly. Reverse thy doom;\\nAnd, in thy best consideration, cheque\\nThis hideous rashness: answer my life my judgment,\\nThy youngest daughter does not love thee least;\\nNor are those empty-hearted whose low sound\\nReverbs no hollowness.\\nKING LEAR\\nKent, on thy life, no more.\\nKENT\\nMy life I never held but as a pawn\\nTo wage against thy enemies; nor fear to lose it,\\nThy safety being the motive.\\nKING LEAR\\nOut of my sight!\\nKENT\\nSee better, Lear; and let me still remain\\nThe true blank of thine eye.\\nKING LEAR\\nNow, by Apollo,--\\nKENT\\nNow, by Apollo, king,\\nThou swear'st thy gods in vain.\\nKING LEAR\\nO, vassal! miscreant!\\nLaying his hand on his\",\n",
       "  0.8136752451968149),\n",
       " (\"he castle.\\nEnter GLOUCESTER, KING LEAR, KENT, Fool, and EDGAR\\nGLOUCESTER\\nHere is better than the open air; take it\\nthankfully. I will piece out the comfort with what\\naddition I can: I will not be long from you.\\nKENT\\nAll the power of his wits have given way to his\\nimpatience: the gods reward your kindness!\\nExit GLOUCESTER\\n\\nEDGAR\\nFrateretto calls me; and tells me\\nNero is an angler in the lake of darkness.\\nPray, innocent, and beware the foul fiend.\\nFool\\nPrithee, nuncle, tell me whether a madman be a\\ngentleman or a yeoman?\\nKING LEAR\\nA king, a king!\\nFool\\nNo, he's a yeoman that has a gentleman to his son;\\nfor he's a mad yeoman that sees his son a gentleman\\nbefore him.\\nKING LEAR\\nTo have a thousand with red burning spits\\nCome hissing in upon 'em,--\\nEDGAR\\nThe foul fiend bites my back.\\nFool\\nHe's mad that trusts in the tameness of a wolf, a\\nhorse's health, a boy's love, or a whore's oath.\\nKING LEAR\\nIt shall be done; I will arraign them straight.\\nTo EDGAR\\n\\nCome, sit thou here, most learned justice\",\n",
       "  0.8095322431244238),\n",
       " (\"Court before the same.\\nEnter KING LEAR, KENT, and Fool\\nKING LEAR\\nGo you before to Gloucester with these letters.\\nAcquaint my daughter no further with any thing you\\nknow than comes from her demand out of the letter.\\nIf your diligence be not speedy, I shall be there afore you.\\nKENT\\nI will not sleep, my lord, till I have delivered\\nyour letter.\\nExit\\n\\nFool\\nIf a man's brains were in's heels, were't not in\\ndanger of kibes?\\nKING LEAR\\nAy, boy.\\nFool\\nThen, I prithee, be merry; thy wit shall ne'er go\\nslip-shod.\\nKING LEAR\\nHa, ha, ha!\\nFool\\nShalt see thy other daughter will use thee kindly;\\nfor though she's as like this as a crab's like an\\napple, yet I can tell what I can tell.\\nKING LEAR\\nWhy, what canst thou tell, my boy?\\nFool\\nShe will taste as like this as a crab does to a\\ncrab. Thou canst tell why one's nose stands i'\\nthe middle on's face?\\nKING LEAR\\nNo.\\nFool\\nWhy, to keep one's eyes of either side's nose; that\\nwhat a man cannot smell out, he may spy into.\\nKING LEAR\\nI did her wrong--\\nFool\\nCanst tell \",\n",
       "  0.8089307461558165),\n",
       " (\"lunatic bans, sometime with prayers,\\nEnforce their charity. Poor Turlygod! poor Tom!\\nThat's something yet: Edgar I nothing am.\\nExit\\n\\nSCENE IV. Before GLOUCESTER's castle. KENT in the stocks.\\nEnter KING LEAR, Fool, and Gentleman\\nKING LEAR\\n'Tis strange that they should so depart from home,\\nAnd not send back my messenger.\\nGentleman\\nAs I learn'd,\\nThe night before there was no purpose in them\\nOf this remove.\\nKENT\\nHail to thee, noble master!\\nKING LEAR\\nHa!\\nMakest thou this shame thy pastime?\\nKENT\\nNo, my lord.\\nFool\\nHa, ha! he wears cruel garters. Horses are tied\\nby the heads, dogs and bears by the neck, monkeys by\\nthe loins, and men by the legs: when a man's\\nover-lusty at legs, then he wears wooden\\nnether-stocks.\\nKING LEAR\\nWhat's he that hath so much thy place mistook\\nTo set thee here?\\nKENT\\nIt is both he and she;\\nYour son and daughter.\\nKING LEAR\\nNo.\\nKENT\\nYes.\\nKING LEAR\\nNo, I say.\\nKENT\\nI say, yea.\\nKING LEAR\\nNo, no, they would not.\\nKENT\\nYes, they have.\\nKING LEAR\\nBy Jupiter, I swear, no.\\nKENT\\nBy \",\n",
       "  0.806627855996915),\n",
       " (\"Lear; and let me still remain\\nThe true blank of thine eye.\\nKING LEAR\\nNow, by Apollo,--\\nKENT\\nNow, by Apollo, king,\\nThou swear'st thy gods in vain.\\nKING LEAR\\nO, vassal! miscreant!\\nLaying his hand on his sword\\n\\nALBANY CORNWALL\\nDear sir, forbear.\\nKENT\\nDo:\\nKill thy physician, and the fee bestow\\nUpon thy foul disease. Revoke thy doom;\\nOr, whilst I can vent clamour from my throat,\\nI'll tell thee thou dost evil.\\nKING LEAR\\nHear me, recreant!\\nOn thine allegiance, hear me!\\nSince thou hast sought to make us break our vow,\\nWhich we durst never yet, and with strain'd pride\\nTo come between our sentence and our power,\\nWhich nor our nature nor our place can bear,\\nOur potency made good, take thy reward.\\nFive days we do allot thee, for provision\\nTo shield thee from diseases of the world;\\nAnd on the sixth to turn thy hated back\\nUpon our kingdom: if, on the tenth day following,\\nThy banish'd trunk be found in our dominions,\\nThe moment is thy death. Away! by Jupiter,\\nThis shall not be revoked.\\nKENT\\nFare thee\",\n",
       "  0.8057710167747074),\n",
       " (\"KING LEAR\\nRumble thy bellyful! Spit, fire! spout, rain!\\nNor rain, wind, thunder, fire, are my daughters:\\nI tax not you, you elements, with unkindness;\\nI never gave you kingdom, call'd you children,\\nYou owe me no subscription: then let fall\\nYour horrible pleasure: here I stand, your slave,\\nA poor, infirm, weak, and despised old man:\\nBut yet I call you servile ministers,\\nThat have with two pernicious daughters join'd\\nYour high engender'd battles 'gainst a head\\nSo old and white as this. O! O! 'tis foul!\\nFool\\nHe that has a house to put's head in has a good\\nhead-piece.\\nThe cod-piece that will house\\nBefore the head has any,\\nThe head and he shall louse;\\nSo beggars marry many.\\nThe man that makes his toe\\nWhat he his heart should make\\nShall of a corn cry woe,\\nAnd turn his sleep to wake.\\nFor there was never yet fair woman but she made\\nmouths in a glass.\\nKING LEAR\\nNo, I will be the pattern of all patience;\\nI will say nothing.\\nEnter KENT\\n\\nKENT\\nWho's there?\\nFool\\nMarry, here's grace and a cod-piece; \",\n",
       "  0.8050348550630749),\n",
       " (\"m.\\nGONERIL\\nAnd let his knights have colder looks among you;\\nWhat grows of it, no matter; advise your fellows so:\\nI would breed from hence occasions, and I shall,\\nThat I may speak: I'll write straight to my sister,\\nTo hold my very course. Prepare for dinner.\\nExeunt\\n\\nSCENE IV. A hall in the same.\\nEnter KENT, disguised\\nKENT\\nIf but as well I other accents borrow,\\nThat can my speech defuse, my good intent\\nMay carry through itself to that full issue\\nFor which I razed my likeness. Now, banish'd Kent,\\nIf thou canst serve where thou dost stand condemn'd,\\nSo may it come, thy master, whom thou lovest,\\nShall find thee full of labours.\\nHorns within. Enter KING LEAR, Knights, and Attendants\\n\\nKING LEAR\\nLet me not stay a jot for dinner; go get it ready.\\nExit an Attendant\\n\\nHow now! what art thou?\\nKENT\\nA man, sir.\\nKING LEAR\\nWhat dost thou profess? what wouldst thou with us?\\nKENT\\nI do profess to be no less than I seem; to serve\\nhim truly that will put me in trust: to love him\\nthat is honest; to converse \",\n",
       "  0.8046995808201298),\n",
       " (\"ou must needs wear my coxcomb.\\nHow now, nuncle! Would I had two coxcombs and two daughters!\\nKING LEAR\\nWhy, my boy?\\nFool\\nIf I gave them all my living, I'ld keep my coxcombs\\nmyself. There's mine; beg another of thy daughters.\\nKING LEAR\\nTake heed, sirrah; the whip.\\nFool\\nTruth's a dog must to kennel; he must be whipped\\nout, when Lady the brach may stand by the fire and stink.\\nKING LEAR\\nA pestilent gall to me!\\nFool\\nSirrah, I'll teach thee a speech.\\nKING LEAR\\nDo.\\nFool\\nMark it, nuncle:\\nHave more than thou showest,\\nSpeak less than thou knowest,\\nLend less than thou owest,\\nRide more than thou goest,\\nLearn more than thou trowest,\\nSet less than thou throwest;\\nLeave thy drink and thy whore,\\nAnd keep in-a-door,\\nAnd thou shalt have more\\nThan two tens to a score.\\nKENT\\nThis is nothing, fool.\\nFool\\nThen 'tis like the breath of an unfee'd lawyer; you\\ngave me nothing for't. Can you make no use of\\nnothing, nuncle?\\nKING LEAR\\nWhy, no, boy; nothing can be made out of nothing.\\nFool\\n[To KENT] Prithee, tell him, \",\n",
       "  0.8044276000527342),\n",
       " (\"n a year.\\nKING LEAR\\nO, how this mother swells up toward my heart!\\nHysterica passio, down, thou climbing sorrow,\\nThy element's below! Where is this daughter?\\nKENT\\nWith the earl, sir, here within.\\nKING LEAR\\nFollow me not;\\nStay here.\\nExit\\n\\nGentleman\\nMade you no more offence but what you speak of?\\nKENT\\nNone.\\nHow chance the king comes with so small a train?\\nFool\\nAnd thou hadst been set i' the stocks for that\\nquestion, thou hadst well deserved it.\\nKENT\\nWhy, fool?\\nFool\\nWe'll set thee to school to an ant, to teach thee\\nthere's no labouring i' the winter. All that follow\\ntheir noses are led by their eyes but blind men; and\\nthere's not a nose among twenty but can smell him\\nthat's stinking. Let go thy hold when a great wheel\\nruns down a hill, lest it break thy neck with\\nfollowing it: but the great one that goes up the\\nhill, let him draw thee after. When a wise man\\ngives thee better counsel, give me mine again: I\\nwould have none but knaves follow it, since a fool gives it.\\nThat sir which serves an\",\n",
       "  0.8029134011034796),\n",
       " (\"e found the king,--in which your pain\\nThat way, I'll this,--he that first lights on him\\nHolla the other.\\nExeunt severally\\n\\nSCENE II. Another part of the heath. Storm still.\\nEnter KING LEAR and Fool\\nKING LEAR\\nBlow, winds, and crack your cheeks! rage! blow!\\nYou cataracts and hurricanoes, spout\\nTill you have drench'd our steeples, drown'd the cocks!\\nYou sulphurous and thought-executing fires,\\nVaunt-couriers to oak-cleaving thunderbolts,\\nSinge my white head! And thou, all-shaking thunder,\\nSmite flat the thick rotundity o' the world!\\nCrack nature's moulds, an germens spill at once,\\nThat make ingrateful man!\\nFool\\nO nuncle, court holy-water in a dry\\nhouse is better than this rain-water out o' door.\\nGood nuncle, in, and ask thy daughters' blessing:\\nhere's a night pities neither wise man nor fool.\\nKING LEAR\\nRumble thy bellyful! Spit, fire! spout, rain!\\nNor rain, wind, thunder, fire, are my daughters:\\nI tax not you, you elements, with unkindness;\\nI never gave you kingdom, call'd you children,\\nYo\",\n",
       "  0.8028317865772234)]"
      ]
     },
     "execution_count": 15,
     "metadata": {},
     "output_type": "execute_result"
    }
   ],
   "source": [
    "vector_db.search_by_text(\"King learn\",k=10)"
   ]
  },
  {
   "cell_type": "markdown",
   "metadata": {},
   "source": [
    "So, to review what we've done so far in natural language:\n",
    "\n",
    "1. We load source documents\n",
    "2. We split those source documents into smaller chunks (documents)\n",
    "3. We send each of those documents to the `text-embedding-ada-002` OpenAI API endpoint\n",
    "4. We store each of the text representations with the vector representations as keys/values in a dictionary"
   ]
  },
  {
   "cell_type": "markdown",
   "metadata": {},
   "source": [
    "### Semantic Similarity\n",
    "\n",
    "The next step is to be able to query our `VectorDatabase()` with a `str` and have it return to us vectors and text that is most relevant from our corpus. \n",
    "\n",
    "We're going to use the following process to achieve this in our toy example:\n",
    "\n",
    "1. We need to embed our query with the same `EmbeddingModel()` as we used to construct our `VectorDatabase()`\n",
    "2. We loop through every vector in our `VectorDatabase()` and use a distance measure to compare how related they are\n",
    "3. We return a list of the top `k` closest vectors, with their text representations\n",
    "\n",
    "There's some very heavy optimization that can be done at each of these steps - but let's just focus on the basic pattern in this notebook.\n",
    "\n",
    "> We are using [cosine similarity](https://www.engati.com/glossary/cosine-similarity) as a distance measure in this example - but there are many many distance measures you could use - like [these](https://flavien-vidal.medium.com/similarity-distances-for-natural-language-processing-16f63cd5ba55)\n",
    "\n",
    "> We are using a rather inefficient way of calculating relative distance between the query vector and all other vectors - there are more advanced approaches that are much more efficient, like [ANN](https://towardsdatascience.com/comprehensive-guide-to-approximate-nearest-neighbors-algorithms-8b94f057d6b6)"
   ]
  },
  {
   "cell_type": "code",
   "execution_count": 16,
   "metadata": {},
   "outputs": [
    {
     "data": {
      "text/plain": [
       "[(\"ng] O my good master!\\nKING LEAR\\nPrithee, away.\\nEDGAR\\n'Tis noble Kent, your friend.\\nKING LEAR\\nA plague upon you, murderers, traitors all!\\nI might have saved her; now she's gone for ever!\\nCordelia, Cordelia! stay a little. Ha!\\nWhat is't thou say'st? Her voice was ever soft,\\nGentle, and low, an excellent thing in woman.\\nI kill'd the slave that was a-hanging thee.\\nCaptain\\n'Tis true, my lords, he did.\\nKING LEAR\\nDid I not, fellow?\\nI have seen the day, with my good biting falchion\\nI would have made them skip: I am old now,\\nAnd these same crosses spoil me. Who are you?\\nMine eyes are not o' the best: I'll tell you straight.\\nKENT\\nIf fortune brag of two she loved and hated,\\nOne of them we behold.\\nKING LEAR\\nThis is a dull sight. Are you not Kent?\\nKENT\\nThe same,\\nYour servant Kent: Where is your servant Caius?\\nKING LEAR\\nHe's a good fellow, I can tell you that;\\nHe'll strike, and quickly too: he's dead and rotten.\\nKENT\\nNo, my good lord; I am the very man,--\\nKING LEAR\\nI'll see that straight.\\nKENT\\nThat,\",\n",
       "  0.8211133030653414),\n",
       " (\"her way,\\nThe news is not so tart.--I'll read, and answer.\\nExit\\n\\nALBANY\\nWhere was his son when they did take his eyes?\\nMessenger\\nCome with my lady hither.\\nALBANY\\nHe is not here.\\nMessenger\\nNo, my good lord; I met him back again.\\nALBANY\\nKnows he the wickedness?\\nMessenger\\nAy, my good lord; 'twas he inform'd against him;\\nAnd quit the house on purpose, that their punishment\\nMight have the freer course.\\nALBANY\\nGloucester, I live\\nTo thank thee for the love thou show'dst the king,\\nAnd to revenge thine eyes. Come hither, friend:\\nTell me what more thou know'st.\\nExeunt\\n\\nSCENE III. The French camp near Dover.\\nEnter KENT and a Gentleman\\nKENT\\nWhy the King of France is so suddenly gone back\\nknow you the reason?\\nGentleman\\nSomething he left imperfect in the\\nstate, which since his coming forth is thought\\nof; which imports to the kingdom so much\\nfear and danger, that his personal return was\\nmost required and necessary.\\nKENT\\nWho hath he left behind him general?\\nGentleman\\nThe Marshal of France, Monsieur La \",\n",
       "  0.8192883149418679),\n",
       " (\",\\nLay comforts to your bosom; and bestow\\nYour needful counsel to our business,\\nWhich craves the instant use.\\nGLOUCESTER\\nI serve you, madam:\\nYour graces are right welcome.\\nExeunt\\n\\nSCENE II. Before Gloucester's castle.\\nEnter KENT and OSWALD, severally\\nOSWALD\\nGood dawning to thee, friend: art of this house?\\nKENT\\nAy.\\nOSWALD\\nWhere may we set our horses?\\nKENT\\nI' the mire.\\nOSWALD\\nPrithee, if thou lovest me, tell me.\\nKENT\\nI love thee not.\\nOSWALD\\nWhy, then, I care not for thee.\\nKENT\\nIf I had thee in Lipsbury pinfold, I would make thee\\ncare for me.\\nOSWALD\\nWhy dost thou use me thus? I know thee not.\\nKENT\\nFellow, I know thee.\\nOSWALD\\nWhat dost thou know me for?\\nKENT\\nA knave; a rascal; an eater of broken meats; a\\nbase, proud, shallow, beggarly, three-suited,\\nhundred-pound, filthy, worsted-stocking knave; a\\nlily-livered, action-taking knave, a whoreson,\\nglass-gazing, super-serviceable finical rogue;\\none-trunk-inheriting slave; one that wouldst be a\\nbawd, in way of good service, and art nothing but\\nth\",\n",
       "  0.8179006492282216)]"
      ]
     },
     "execution_count": 16,
     "metadata": {},
     "output_type": "execute_result"
    }
   ],
   "source": [
    "vector_db.search_by_text(\"Your servant Kent. Where is your servant Caius?\", k=3)"
   ]
  },
  {
   "cell_type": "markdown",
   "metadata": {},
   "source": [
    "# Prompts\n",
    "\n",
    "In the following section, we'll be looking at the role of prompts - and how they help us to guide our application in the right direction.\n",
    "\n",
    "In this notebook, we're going to rely on the idea of \"zero-shot in-context learning\".\n",
    "\n",
    "This is a lot of words to say: \"We will ask it to perform our desired task in the prompt, and provide no examples.\""
   ]
  },
  {
   "cell_type": "markdown",
   "metadata": {},
   "source": [
    "### XYZRolePrompt\n",
    "\n",
    "Before we do that, let's stop and think a bit about how OpenAI's chat models work. \n",
    "\n",
    "We know they have roles - as is indicated in the following API [documentation](https://platform.openai.com/docs/api-reference/chat/create#chat/create-messages)\n",
    "\n",
    "There are three roles, and they function as follows (taken directly from [OpenAI](https://platform.openai.com/docs/guides/gpt/chat-completions-api)): \n",
    "\n",
    "- `{\"role\" : \"system\"}` : The system message helps set the behavior of the assistant. For example, you can modify the personality of the assistant or provide specific instructions about how it should behave throughout the conversation. However note that the system message is optional and the model’s behavior without a system message is likely to be similar to using a generic message such as \"You are a helpful assistant.\"\n",
    "- `{\"role\" : \"user\"}` : The user messages provide requests or comments for the assistant to respond to.\n",
    "- `{\"role\" : \"assistant\"}` : Assistant messages store previous assistant responses, but can also be written by you to give examples of desired behavior.\n",
    "\n",
    "The main idea is this: \n",
    "\n",
    "1. You start with a system message that outlines how the LLM should respond, what kind of behaviours you can expect from it, and more\n",
    "2. Then, you can provide a few examples in the form of \"assistant\"/\"user\" pairs\n",
    "3. Then, you prompt the model with the true \"user\" message.\n",
    "\n",
    "In this example, we'll be forgoing the 2nd step for simplicities sake."
   ]
  },
  {
   "cell_type": "code",
   "execution_count": 17,
   "metadata": {},
   "outputs": [],
   "source": [
    "from aimakerspace.openai_utils.prompts import (\n",
    "    UserRolePrompt,\n",
    "    SystemRolePrompt,\n",
    "    AssistantRolePrompt,\n",
    ")\n",
    "\n",
    "from aimakerspace.openai_utils.chatmodel import ChatOpenAI\n",
    "\n",
    "chat_openai = ChatOpenAI()\n",
    "user_prompt_template = \"{content}\"\n",
    "user_role_prompt = UserRolePrompt(user_prompt_template)\n",
    "system_prompt_template = (\n",
    "    \"You are an expert in {expertise}, you always answer in a kind way.\"\n",
    ")\n",
    "system_role_prompt = SystemRolePrompt(system_prompt_template)\n",
    "\n",
    "messages = [\n",
    "    user_role_prompt.create_message(\n",
    "        content=\"What is the best way to write a loop?\"\n",
    "    ),\n",
    "    system_role_prompt.create_message(expertise=\"Python\"),\n",
    "]\n",
    "\n",
    "response = chat_openai.run(messages)"
   ]
  },
  {
   "cell_type": "code",
   "execution_count": 18,
   "metadata": {},
   "outputs": [
    {
     "name": "stdout",
     "output_type": "stream",
     "text": [
      "The best way to write a loop depends on the specific situation and the programming language you are using. However, I can provide some general tips for writing loops efficiently and effectively:\n",
      "\n",
      "1. Choose the appropriate type of loop: Depending on the nature of your task, you can use different types of loops such as \"for\" loop, \"while\" loop, or \"do-while\" loop. Make sure to select the loop type that best fits your problem.\n",
      "\n",
      "2. Define your loop condition: Determine the condition under which the loop should continue executing. This could be based on a specific value, a certain range, or a boolean expression.\n",
      "\n",
      "3. Initialize loop variables correctly: If you are using variables within your loop, ensure that they are initialized properly before the loop begins, especially if you're using a \"while\" loop.\n",
      "\n",
      "4. Update loop variables: Inside the loop, update the loop variables according to the desired logic. This could involve incrementing or decrementing a counter, modifying a specific variable, or accessing elements in an iterable.\n",
      "\n",
      "5. Break or continue when necessary: Use \"break\" statements to exit the loop prematurely if a certain condition is met. Utilize \"continue\" statements to skip the remaining code within the loop for specific iterations.\n",
      "\n",
      "6. Avoid infinite loops: Ensure that your loop has a proper exit condition to avoid getting stuck in an infinite loop. This could be as simple as checking the value of a variable or incorporating a counter.\n",
      "\n",
      "7. Keep your code concise and readable: Write clear and understandable loop logic. Use descriptive variable names and include comments where necessary to enhance code readability.\n",
      "\n",
      "Remember, the best way to write a loop can vary depending on the specific programming language and the problem you are trying to solve. It's always a good practice to consult the official documentation or style guidelines for the language you are working with.\n"
     ]
    }
   ],
   "source": [
    "print(response)"
   ]
  },
  {
   "cell_type": "markdown",
   "metadata": {},
   "source": [
    "### Retrieval Augmented Question Answering Prompt\n",
    "\n",
    "Now we can create a RAQA prompt - which will help our system behave in a way that makes sense!\n",
    "\n",
    "There is much you could do here, many tweaks and improvements to be made!"
   ]
  },
  {
   "cell_type": "code",
   "execution_count": 19,
   "metadata": {},
   "outputs": [],
   "source": [
    "RAQA_PROMPT_TEMPLATE = \"\"\"\n",
    "Use the provided context to answer the user's query. \n",
    "\n",
    "You may not answer the user's query unless there is specific context in the following text.\n",
    "\n",
    "If you do not know the answer, or cannot answer, please respond with \"I don't know\".\n",
    "\n",
    "Context:\n",
    "{context}\n",
    "\"\"\"\n",
    "\n",
    "raqa_prompt = SystemRolePrompt(RAQA_PROMPT_TEMPLATE)\n",
    "\n",
    "USER_PROMPT_TEMPLATE = \"\"\"\n",
    "User Query:\n",
    "{user_query}\n",
    "\"\"\"\n",
    "\n",
    "user_prompt = UserRolePrompt(USER_PROMPT_TEMPLATE)\n",
    "\n",
    "class RetrievalAugmentedQAPipeline:\n",
    "    def __init__(self, llm: ChatOpenAI(), vector_db_retriever: VectorDatabase) -> None:\n",
    "        self.llm = llm\n",
    "        self.vector_db_retriever = vector_db_retriever\n",
    "\n",
    "    def run_pipeline(self, user_query: str) -> str:\n",
    "        context_list = self.vector_db_retriever.search_by_text(user_query, k=4)\n",
    "        \n",
    "        context_prompt = \"\"\n",
    "        for context in context_list:\n",
    "            context_prompt += context[0] + \"\\n\"\n",
    "\n",
    "        formatted_system_prompt = raqa_prompt.create_message(context=context_prompt)\n",
    "\n",
    "        formatted_user_prompt = user_prompt.create_message(user_query=user_query)\n",
    "        \n",
    "        return self.llm.run([formatted_system_prompt, formatted_user_prompt])"
   ]
  },
  {
   "cell_type": "code",
   "execution_count": 20,
   "metadata": {},
   "outputs": [],
   "source": [
    "retrieval_augmented_qa_pipeline = RetrievalAugmentedQAPipeline(\n",
    "    vector_db_retriever=vector_db,\n",
    "    llm=chat_openai\n",
    ")"
   ]
  },
  {
   "cell_type": "code",
   "execution_count": 21,
   "metadata": {},
   "outputs": [
    {
     "data": {
      "text/plain": [
       "'The context provided indicates that King Lear is a character in the play. However, it does not provide any specific information about who King Lear is or his background.'"
      ]
     },
     "execution_count": 21,
     "metadata": {},
     "output_type": "execute_result"
    }
   ],
   "source": [
    "retrieval_augmented_qa_pipeline.run_pipeline(\"Who is King Lear?\")"
   ]
  },
  {
   "cell_type": "code",
   "execution_count": 22,
   "metadata": {},
   "outputs": [
    {
     "data": {
      "text/plain": [
       "\"I don't know.\""
      ]
     },
     "execution_count": 22,
     "metadata": {},
     "output_type": "execute_result"
    }
   ],
   "source": [
    "retrieval_augmented_qa_pipeline.run_pipeline(\"Who is Batman?\")"
   ]
  },
  {
   "cell_type": "code",
   "execution_count": 23,
   "metadata": {},
   "outputs": [
    {
     "data": {
      "text/plain": [
       "\"Cordelia dies. She is brought into the scene dead in King Lear's arms. The text does not provide specific details about how she died.\""
      ]
     },
     "execution_count": 23,
     "metadata": {},
     "output_type": "execute_result"
    }
   ],
   "source": [
    "retrieval_augmented_qa_pipeline.run_pipeline(\"What happens to Cordelia?\")"
   ]
  },
  {
   "cell_type": "markdown",
   "metadata": {},
   "source": [
    "# Conclusion\n",
    "\n",
    "In this notebook, we've gone through the steps required to create your own simple RAQA application!\n",
    "\n",
    "Please feel free to extend this as much as you'd like. "
   ]
  },
  {
   "cell_type": "markdown",
   "metadata": {},
   "source": [
    "# Bonus Challenges\n",
    "\n",
    "Challenge 1: \n",
    "- Implement a new distance measure\n",
    "- Implement a more efficient vector search\n",
    "\n",
    "Challenge 2: \n",
    "- Create an external VectorStore that can be run/hosted elsewhere\n",
    "- Build an adapter for that VectorStore here"
   ]
  },
  {
   "cell_type": "markdown",
   "metadata": {},
   "source": []
  }
 ],
 "metadata": {
  "kernelspec": {
   "display_name": "buildyourownlangchain",
   "language": "python",
   "name": "python3"
  },
  "language_info": {
   "codemirror_mode": {
    "name": "ipython",
    "version": 3
   },
   "file_extension": ".py",
   "mimetype": "text/x-python",
   "name": "python",
   "nbconvert_exporter": "python",
   "pygments_lexer": "ipython3",
   "version": "3.10.8"
  },
  "orig_nbformat": 4
 },
 "nbformat": 4,
 "nbformat_minor": 2
}
